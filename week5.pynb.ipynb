{
 "cells": [
  {
   "cell_type": "code",
   "execution_count": 3,
   "metadata": {},
   "outputs": [
    {
     "data": {
      "application/vnd.plotly.v1+json": {
       "config": {
        "plotlyServerURL": "https://plot.ly"
       },
       "data": [
        {
         "branchvalues": "total",
         "customdata": [
          [
           0.7054089979550103
          ],
          [
           0.576148719747457
          ],
          [
           0.37095238095238087
          ],
          [
           1.12797507788162
          ],
          [
           1.4970833333333333
          ],
          [
           0.6196180057388807
          ],
          [
           0.9277246300211414
          ],
          [
           1.7649635036496354
          ],
          [
           1.7978363759296823
          ],
          [
           2.022605217391304
          ],
          [
           0.2673771011734855
          ],
          [
           1.4286099960645415
          ],
          [
           2.288940827100748
          ],
          [
           1.5945400805508638
          ],
          [
           1.2399988513668732
          ],
          [
           0.7230485166872682
          ],
          [
           0.17167916041979014
          ],
          [
           0
          ],
          [
           1.331607142857143
          ],
          [
           1.0227635351661326
          ],
          [
           0.3390232558139535
          ],
          [
           1.9617863765607615
          ],
          [
           0.6844074675324675
          ],
          [
           1.0591802308375264
          ],
          [
           1.0147058823529411
          ],
          [
           0
          ],
          [
           0.06272349272349273
          ],
          [
           0.24544000000000002
          ],
          [
           0.4258405582575596
          ],
          [
           4.324184149184148
          ],
          [
           0.6399182561307903
          ],
          [
           0.448549747048904
          ],
          [
           0
          ],
          [
           0.06822222222222221
          ],
          [
           2.19
          ],
          [
           0.37582755203171464
          ],
          [
           0.5344587505960896
          ],
          [
           0.17391304347826084
          ],
          [
           0.8927074235807858
          ],
          [
           0.2281276595744681
          ],
          [
           0.058400374181478004
          ],
          [
           0.055885167464114836
          ],
          [
           0
          ],
          [
           0
          ],
          [
           0
          ],
          [
           0.3311991318502441
          ],
          [
           0.04176470588235294
          ],
          [
           1.5747078135259356
          ],
          [
           0.19944444444444448
          ],
          [
           0.3531474103585658
          ],
          [
           0.6138709677419355
          ],
          [
           2.387160611854685
          ],
          [
           0
          ],
          [
           0.1145138888888889
          ],
          [
           0.33567695961995253
          ],
          [
           1.9160065111231686
          ],
          [
           1.3977457627118643
          ],
          [
           1.4452717391304344
          ],
          [
           1.2203975535168194
          ],
          [
           0
          ],
          [
           0.03592592592592593
          ],
          [
           1.1970542102366541
          ],
          [
           0.9271976241900645
          ],
          [
           0.7355725338491297
          ],
          [
           0.6817412935323384
          ],
          [
           0.33227127901684117
          ],
          [
           0.1763809523809524
          ],
          [
           0.09836854460093898
          ],
          [
           1.2739183673469388
          ],
          [
           3.8279966471081304
          ],
          [
           2.1188679245283013
          ],
          [
           0.8335414452709884
          ],
          [
           0.48962361623616235
          ],
          [
           0.6433333333333333
          ],
          [
           0.8645251396648044
          ],
          [
           0.15776717557251907
          ],
          [
           1.3599237804878046
          ],
          [
           1.5327715355805243
          ],
          [
           0.7491944827586207
          ],
          [
           0.7634369396294083
          ],
          [
           0
          ],
          [
           0.9138516532618407
          ],
          [
           0.005961002785515321
          ],
          [
           1.467523364485981
          ],
          [
           0.814187082405345
          ],
          [
           0.7881105398457584
          ],
          [
           0.6453772204806688
          ],
          [
           0.8525540540540539
          ],
          [
           0.1479011461318052
          ],
          [
           0.16862934362934362
          ],
          [
           0
          ],
          [
           0
          ],
          [
           0.7833665338645417
          ],
          [
           3.426310956301456
          ],
          [
           1.1382174979558468
          ],
          [
           4.8282807742496745
          ],
          [
           0.37698329853862206
          ],
          [
           0.6910641399416909
          ],
          [
           2.1651243406179352
          ],
          [
           2.9052869996897295
          ],
          [
           1.200472440944882
          ],
          [
           5.417894125242093
          ],
          [
           4.836381351302132
          ],
          [
           1.1687905491698594
          ],
          [
           1.3681995812979766
          ],
          [
           2.9465372168284785
          ],
          [
           0
          ],
          [
           3.268311652366455
          ],
          [
           14.488557110043848
          ],
          [
           0.006326530612244898
          ],
          [
           2.069134091263043
          ],
          [
           0.9135264101503247
          ],
          [
           1.0904879657105175
          ],
          [
           0.37684736091298143
          ],
          [
           1.0771354166666662
          ],
          [
           0.25339933993399344
          ],
          [
           0
          ],
          [
           1
          ],
          [
           6.023544554455444
          ],
          [
           6.33345382411285
          ],
          [
           1.4421516007532957
          ],
          [
           0.44876207199297624
          ],
          [
           0.30273291925465834
          ],
          [
           0.1537037037037037
          ],
          [
           4.33658719346049
          ],
          [
           0
          ],
          [
           0.16206463195691206
          ],
          [
           1.073981492466485
          ],
          [
           15.171902254055198
          ],
          [
           0.8294891640866874
          ],
          [
           0.7230851063829791
          ],
          [
           0.31425219941348964
          ],
          [
           1.5937238095238093
          ],
          [
           0.0035869565217391294
          ],
          [
           0.573228476821192
          ],
          [
           0.5290508474576272
          ],
          [
           0.21233333333333332
          ],
          [
           0
          ],
          [
           0.1834420289855073
          ],
          [
           0.05600000000000001
          ],
          [
           0
          ],
          [
           0
          ],
          [
           0.5801914486279517
          ],
          [
           0.5093233082706766
          ],
          [
           0.11176470588235293
          ],
          [
           0.09571428571428572
          ],
          [
           0.6510996563573884
          ],
          [
           4.020759144237405
          ],
          [
           0.7513207547169812
          ],
          [
           6.103017598343684
          ],
          [
           1.441868131868132
          ],
          [
           1.0204787234042552
          ],
          [
           1.650470534490635
          ],
          [
           0
          ],
          [
           2.2882888500873038
          ],
          [
           1.415848670756646
          ],
          [
           0.025098522167487685
          ],
          [
           1.395714701036922
          ],
          [
           1.723925646275915
          ],
          [
           0.9346233941852604
          ],
          [
           0.35993928881179527
          ],
          [
           0.6229023898646703
          ],
          [
           0.2116271186440678
          ],
          [
           0.10149999999999999
          ],
          [
           0
          ],
          [
           2.588206078576724
          ],
          [
           9.41306462140992
          ],
          [
           2.8223938223938227
          ],
          [
           0.9951219881800275
          ],
          [
           0.5682438869482374
          ],
          [
           0.6037613636363637
          ],
          [
           1.8207248481647738
          ],
          [
           0
          ],
          [
           2.3351990540007885
          ],
          [
           7.524524025385311
          ],
          [
           2.7780641644603645
          ],
          [
           0.775171102661597
          ],
          [
           0
          ],
          [
           0.31845238095238093
          ],
          [
           0.13440894568690095
          ],
          [
           0.9112411050648811
          ],
          [
           0
          ],
          [
           0.9247752234993616
          ],
          [
           1.0263122994652405
          ],
          [
           0.8959057104913678
          ],
          [
           1.0213698098564223
          ],
          [
           0.26391641182466863
          ],
          [
           0.12026885735623599
          ],
          [
           0
          ],
          [
           0
          ],
          [
           0.1614795498215756
          ],
          [
           0
          ],
          [
           0.33213371266002845
          ],
          [
           0.22299595141700407
          ],
          [
           2.1258224506807437
          ],
          [
           1.3133382679496668
          ],
          [
           1.3425
          ],
          [
           1.7979909365558913
          ],
          [
           0.35875968992248053
          ],
          [
           0
          ],
          [
           0.4114146341463415
          ],
          [
           0.4
          ],
          [
           0.1068611111111111
          ],
          [
           0.724380044020543
          ],
          [
           0
          ],
          [
           3.1827607680332126
          ],
          [
           21.472484559236378
          ],
          [
           0.8821888790820829
          ],
          [
           0.8014551004833375
          ],
          [
           1.1438979460256056
          ],
          [
           2.290286166088553
          ],
          [
           2.3508590015932027
          ],
          [
           0.5623823975720792
          ],
          [
           0.41301969365426694
          ],
          [
           0
          ],
          [
           1.0812026359143327
          ],
          [
           0
          ],
          [
           1.078196037539103
          ],
          [
           1.1894489465153975
          ],
          [
           4.211314306228685
          ],
          [
           1.8537655389457122
          ],
          [
           2.125496996706065
          ],
          [
           0.42
          ],
          [
           0
          ],
          [
           1.1584859675036925
          ],
          [
           0
          ],
          [
           2.4507892145724455
          ],
          [
           0
          ],
          [
           0.39976311336717435
          ],
          [
           1.077811408614668
          ],
          [
           1.363837095191364
          ],
          [
           1.1102311693315359
          ],
          [
           0.22727595736281095
          ],
          [
           0.706645569620253
          ],
          [
           0.353327154772938
          ],
          [
           0.06493506493506494
          ],
          [
           0.2159872611464969
          ],
          [
           0.0025
          ],
          [
           0
          ],
          [
           0.4202131438721138
          ],
          [
           0.7596213145793883
          ],
          [
           0.15
          ],
          [
           0.5399515570934256
          ],
          [
           0.43843881856540085
          ],
          [
           0.14851851851851852
          ],
          [
           0.36533527696793
          ],
          [
           0.13625806451612904
          ],
          [
           0.6709836065573771
          ],
          [
           0.5543041156142003
          ],
          [
           0.6742209944751381
          ],
          [
           0.24859841560024376
          ],
          [
           0.42097293056100443
          ],
          [
           1.4506249999999998
          ],
          [
           0.5737225609756097
          ],
          [
           0.7207970204841712
          ],
          [
           0
          ],
          [
           0.006969192339716902
          ],
          [
           0.7878044143175994
          ],
          [
           0.9789905270472915
          ],
          [
           0.6820241959280023
          ],
          [
           0.9690273616936287
          ],
          [
           0.20572079635404178
          ],
          [
           0.11680327868852461
          ],
          [
           0
          ],
          [
           0.1421376608841634
          ],
          [
           15.3494079983565
          ],
          [
           0.2817168674698795
          ],
          [
           1.1189419206440483
          ],
          [
           0.5196793808734107
          ],
          [
           0.9095619524405506
          ],
          [
           0.121866028708134
          ],
          [
           0.41157894736842116
          ],
          [
           0.6848447204968944
          ],
          [
           0.6908187919463087
          ],
          [
           0.5346064814814817
          ],
          [
           0
          ],
          [
           1.955585672797677
          ],
          [
           0.9894398430688751
          ],
          [
           0.7179326257498846
          ],
          [
           0.08899669966996701
          ],
          [
           0.1989473684210526
          ],
          [
           0.052682926829268305
          ],
          [
           0.08789077212806026
          ],
          [
           0.019354838709677417
          ],
          [
           0
          ],
          [
           0
          ],
          [
           0.03734939759036144
          ],
          [
           0
          ],
          [
           0.1701338432122371
          ],
          [
           0.4081451612903226
          ],
          [
           0.619496544916091
          ],
          [
           0.23388489208633104
          ],
          [
           0.12052631578947369
          ],
          [
           1.747196126905645
          ],
          [
           0
          ],
          [
           1.5493958619574881
          ],
          [
           0.5370695053224798
          ],
          [
           2.1055159333244173
          ],
          [
           6.948199256214524
          ],
          [
           1.2065513343799057
          ],
          [
           1.0380944020866774
          ],
          [
           2.2302080394922426
          ],
          [
           0
          ],
          [
           1.925987298976608
          ],
          [
           9.150840801370137
          ],
          [
           0
          ],
          [
           0.8173004404605517
          ],
          [
           0
          ],
          [
           1.123106780171352
          ],
          [
           1.3153997961199069
          ],
          [
           1.3533549444583648
          ],
          [
           1.3649284430061128
          ],
          [
           0.4488095720264614
          ],
          [
           0.17076376554174064
          ],
          [
           0.032203036618041074
          ],
          [
           0.802139037433155
          ],
          [
           2.497301674581354
          ],
          [
           0
          ],
          [
           0
          ],
          [
           7.2130137799311544
          ],
          [
           1.1796347422428535
          ],
          [
           2.5941165965957795
          ],
          [
           0.9020479361883375
          ],
          [
           1.366032184885864
          ],
          [
           2.48821550282273
          ]
         ],
         "domain": {
          "x": [
           0,
           1
          ],
          "y": [
           0,
           1
          ]
         },
         "hovertemplate": "labels=%{label}<br>global_sales=%{value}<br>parent=%{parent}<br>id=%{id}<br>na_sales=%{color}<extra></extra>",
         "ids": [
          "World Sales Flatform/2600/Action",
          "World Sales Flatform/3DS/Action",
          "World Sales Flatform/DC/Action",
          "World Sales Flatform/DS/Action",
          "World Sales Flatform/GB/Action",
          "World Sales Flatform/GBA/Action",
          "World Sales Flatform/GC/Action",
          "World Sales Flatform/GEN/Action",
          "World Sales Flatform/N64/Action",
          "World Sales Flatform/NES/Action",
          "World Sales Flatform/PC/Action",
          "World Sales Flatform/PS/Action",
          "World Sales Flatform/PS2/Action",
          "World Sales Flatform/PS3/Action",
          "World Sales Flatform/PS4/Action",
          "World Sales Flatform/PSP/Action",
          "World Sales Flatform/PSV/Action",
          "World Sales Flatform/SAT/Action",
          "World Sales Flatform/SNES/Action",
          "World Sales Flatform/Wii/Action",
          "World Sales Flatform/WiiU/Action",
          "World Sales Flatform/X360/Action",
          "World Sales Flatform/XB/Action",
          "World Sales Flatform/XOne/Action",
          "World Sales Flatform/2600/Adventure",
          "World Sales Flatform/3DO/Adventure",
          "World Sales Flatform/3DS/Adventure",
          "World Sales Flatform/DC/Adventure",
          "World Sales Flatform/DS/Adventure",
          "World Sales Flatform/GB/Adventure",
          "World Sales Flatform/GBA/Adventure",
          "World Sales Flatform/GC/Adventure",
          "World Sales Flatform/GEN/Adventure",
          "World Sales Flatform/N64/Adventure",
          "World Sales Flatform/NES/Adventure",
          "World Sales Flatform/PC/Adventure",
          "World Sales Flatform/PS/Adventure",
          "World Sales Flatform/PS2/Adventure",
          "World Sales Flatform/PS3/Adventure",
          "World Sales Flatform/PS4/Adventure",
          "World Sales Flatform/PSP/Adventure",
          "World Sales Flatform/PSV/Adventure",
          "World Sales Flatform/SAT/Adventure",
          "World Sales Flatform/SNES/Adventure",
          "World Sales Flatform/TG16/Adventure",
          "World Sales Flatform/Wii/Adventure",
          "World Sales Flatform/WiiU/Adventure",
          "World Sales Flatform/X360/Adventure",
          "World Sales Flatform/XB/Adventure",
          "World Sales Flatform/XOne/Adventure",
          "World Sales Flatform/2600/Fighting",
          "World Sales Flatform/3DS/Fighting",
          "World Sales Flatform/DC/Fighting",
          "World Sales Flatform/DS/Fighting",
          "World Sales Flatform/GBA/Fighting",
          "World Sales Flatform/GC/Fighting",
          "World Sales Flatform/GEN/Fighting",
          "World Sales Flatform/N64/Fighting",
          "World Sales Flatform/NES/Fighting",
          "World Sales Flatform/NG/Fighting",
          "World Sales Flatform/PC/Fighting",
          "World Sales Flatform/PS/Fighting",
          "World Sales Flatform/PS2/Fighting",
          "World Sales Flatform/PS3/Fighting",
          "World Sales Flatform/PS4/Fighting",
          "World Sales Flatform/PSP/Fighting",
          "World Sales Flatform/PSV/Fighting",
          "World Sales Flatform/SAT/Fighting",
          "World Sales Flatform/SNES/Fighting",
          "World Sales Flatform/Wii/Fighting",
          "World Sales Flatform/WiiU/Fighting",
          "World Sales Flatform/X360/Fighting",
          "World Sales Flatform/XB/Fighting",
          "World Sales Flatform/XOne/Fighting",
          "World Sales Flatform/2600/Misc",
          "World Sales Flatform/3DS/Misc",
          "World Sales Flatform/DS/Misc",
          "World Sales Flatform/GB/Misc",
          "World Sales Flatform/GBA/Misc",
          "World Sales Flatform/GC/Misc",
          "World Sales Flatform/GEN/Misc",
          "World Sales Flatform/N64/Misc",
          "World Sales Flatform/NES/Misc",
          "World Sales Flatform/PC/Misc",
          "World Sales Flatform/PS/Misc",
          "World Sales Flatform/PS2/Misc",
          "World Sales Flatform/PS3/Misc",
          "World Sales Flatform/PS4/Misc",
          "World Sales Flatform/PSP/Misc",
          "World Sales Flatform/PSV/Misc",
          "World Sales Flatform/SAT/Misc",
          "World Sales Flatform/SCD/Misc",
          "World Sales Flatform/SNES/Misc",
          "World Sales Flatform/Wii/Misc",
          "World Sales Flatform/WiiU/Misc",
          "World Sales Flatform/X360/Misc",
          "World Sales Flatform/XB/Misc",
          "World Sales Flatform/XOne/Misc",
          "World Sales Flatform/2600/Platform",
          "World Sales Flatform/3DS/Platform",
          "World Sales Flatform/DC/Platform",
          "World Sales Flatform/DS/Platform",
          "World Sales Flatform/GB/Platform",
          "World Sales Flatform/GBA/Platform",
          "World Sales Flatform/GC/Platform",
          "World Sales Flatform/GEN/Platform",
          "World Sales Flatform/GG/Platform",
          "World Sales Flatform/N64/Platform",
          "World Sales Flatform/NES/Platform",
          "World Sales Flatform/PC/Platform",
          "World Sales Flatform/PS/Platform",
          "World Sales Flatform/PS2/Platform",
          "World Sales Flatform/PS3/Platform",
          "World Sales Flatform/PS4/Platform",
          "World Sales Flatform/PSP/Platform",
          "World Sales Flatform/PSV/Platform",
          "World Sales Flatform/SAT/Platform",
          "World Sales Flatform/SCD/Platform",
          "World Sales Flatform/SNES/Platform",
          "World Sales Flatform/Wii/Platform",
          "World Sales Flatform/WiiU/Platform",
          "World Sales Flatform/X360/Platform",
          "World Sales Flatform/XB/Platform",
          "World Sales Flatform/XOne/Platform",
          "World Sales Flatform/2600/Puzzle",
          "World Sales Flatform/3DO/Puzzle",
          "World Sales Flatform/3DS/Puzzle",
          "World Sales Flatform/DS/Puzzle",
          "World Sales Flatform/GB/Puzzle",
          "World Sales Flatform/GBA/Puzzle",
          "World Sales Flatform/GC/Puzzle",
          "World Sales Flatform/N64/Puzzle",
          "World Sales Flatform/NES/Puzzle",
          "World Sales Flatform/PC/Puzzle",
          "World Sales Flatform/PS/Puzzle",
          "World Sales Flatform/PS2/Puzzle",
          "World Sales Flatform/PS3/Puzzle",
          "World Sales Flatform/PS4/Puzzle",
          "World Sales Flatform/PSP/Puzzle",
          "World Sales Flatform/PSV/Puzzle",
          "World Sales Flatform/SAT/Puzzle",
          "World Sales Flatform/SNES/Puzzle",
          "World Sales Flatform/Wii/Puzzle",
          "World Sales Flatform/WiiU/Puzzle",
          "World Sales Flatform/X360/Puzzle",
          "World Sales Flatform/XB/Puzzle",
          "World Sales Flatform/2600/Racing",
          "World Sales Flatform/3DS/Racing",
          "World Sales Flatform/DC/Racing",
          "World Sales Flatform/DS/Racing",
          "World Sales Flatform/GB/Racing",
          "World Sales Flatform/GBA/Racing",
          "World Sales Flatform/GC/Racing",
          "World Sales Flatform/GEN/Racing",
          "World Sales Flatform/N64/Racing",
          "World Sales Flatform/NES/Racing",
          "World Sales Flatform/PC/Racing",
          "World Sales Flatform/PS/Racing",
          "World Sales Flatform/PS2/Racing",
          "World Sales Flatform/PS3/Racing",
          "World Sales Flatform/PS4/Racing",
          "World Sales Flatform/PSP/Racing",
          "World Sales Flatform/PSV/Racing",
          "World Sales Flatform/SAT/Racing",
          "World Sales Flatform/SCD/Racing",
          "World Sales Flatform/SNES/Racing",
          "World Sales Flatform/Wii/Racing",
          "World Sales Flatform/WiiU/Racing",
          "World Sales Flatform/X360/Racing",
          "World Sales Flatform/XB/Racing",
          "World Sales Flatform/XOne/Racing",
          "World Sales Flatform/3DS/Role-Playing",
          "World Sales Flatform/DC/Role-Playing",
          "World Sales Flatform/DS/Role-Playing",
          "World Sales Flatform/GB/Role-Playing",
          "World Sales Flatform/GBA/Role-Playing",
          "World Sales Flatform/GC/Role-Playing",
          "World Sales Flatform/GEN/Role-Playing",
          "World Sales Flatform/N64/Role-Playing",
          "World Sales Flatform/NES/Role-Playing",
          "World Sales Flatform/PC/Role-Playing",
          "World Sales Flatform/PCFX/Role-Playing",
          "World Sales Flatform/PS/Role-Playing",
          "World Sales Flatform/PS2/Role-Playing",
          "World Sales Flatform/PS3/Role-Playing",
          "World Sales Flatform/PS4/Role-Playing",
          "World Sales Flatform/PSP/Role-Playing",
          "World Sales Flatform/PSV/Role-Playing",
          "World Sales Flatform/SAT/Role-Playing",
          "World Sales Flatform/SCD/Role-Playing",
          "World Sales Flatform/SNES/Role-Playing",
          "World Sales Flatform/WS/Role-Playing",
          "World Sales Flatform/Wii/Role-Playing",
          "World Sales Flatform/WiiU/Role-Playing",
          "World Sales Flatform/X360/Role-Playing",
          "World Sales Flatform/XB/Role-Playing",
          "World Sales Flatform/XOne/Role-Playing",
          "World Sales Flatform/2600/Shooter",
          "World Sales Flatform/3DS/Shooter",
          "World Sales Flatform/DC/Shooter",
          "World Sales Flatform/DS/Shooter",
          "World Sales Flatform/GB/Shooter",
          "World Sales Flatform/GBA/Shooter",
          "World Sales Flatform/GC/Shooter",
          "World Sales Flatform/GEN/Shooter",
          "World Sales Flatform/N64/Shooter",
          "World Sales Flatform/NES/Shooter",
          "World Sales Flatform/PC/Shooter",
          "World Sales Flatform/PS/Shooter",
          "World Sales Flatform/PS2/Shooter",
          "World Sales Flatform/PS3/Shooter",
          "World Sales Flatform/PS4/Shooter",
          "World Sales Flatform/PSP/Shooter",
          "World Sales Flatform/PSV/Shooter",
          "World Sales Flatform/SAT/Shooter",
          "World Sales Flatform/SNES/Shooter",
          "World Sales Flatform/TG16/Shooter",
          "World Sales Flatform/Wii/Shooter",
          "World Sales Flatform/WiiU/Shooter",
          "World Sales Flatform/X360/Shooter",
          "World Sales Flatform/XB/Shooter",
          "World Sales Flatform/XOne/Shooter",
          "World Sales Flatform/2600/Simulation",
          "World Sales Flatform/3DO/Simulation",
          "World Sales Flatform/3DS/Simulation",
          "World Sales Flatform/DC/Simulation",
          "World Sales Flatform/DS/Simulation",
          "World Sales Flatform/GB/Simulation",
          "World Sales Flatform/GBA/Simulation",
          "World Sales Flatform/GC/Simulation",
          "World Sales Flatform/N64/Simulation",
          "World Sales Flatform/PC/Simulation",
          "World Sales Flatform/PS/Simulation",
          "World Sales Flatform/PS2/Simulation",
          "World Sales Flatform/PS3/Simulation",
          "World Sales Flatform/PS4/Simulation",
          "World Sales Flatform/PSP/Simulation",
          "World Sales Flatform/PSV/Simulation",
          "World Sales Flatform/SAT/Simulation",
          "World Sales Flatform/SNES/Simulation",
          "World Sales Flatform/Wii/Simulation",
          "World Sales Flatform/WiiU/Simulation",
          "World Sales Flatform/X360/Simulation",
          "World Sales Flatform/XB/Simulation",
          "World Sales Flatform/XOne/Simulation",
          "World Sales Flatform/2600/Sports",
          "World Sales Flatform/3DS/Sports",
          "World Sales Flatform/DC/Sports",
          "World Sales Flatform/DS/Sports",
          "World Sales Flatform/GB/Sports",
          "World Sales Flatform/GBA/Sports",
          "World Sales Flatform/GC/Sports",
          "World Sales Flatform/GEN/Sports",
          "World Sales Flatform/N64/Sports",
          "World Sales Flatform/NES/Sports",
          "World Sales Flatform/NG/Sports",
          "World Sales Flatform/PC/Sports",
          "World Sales Flatform/PS/Sports",
          "World Sales Flatform/PS2/Sports",
          "World Sales Flatform/PS3/Sports",
          "World Sales Flatform/PS4/Sports",
          "World Sales Flatform/PSP/Sports",
          "World Sales Flatform/PSV/Sports",
          "World Sales Flatform/SAT/Sports",
          "World Sales Flatform/SNES/Sports",
          "World Sales Flatform/Wii/Sports",
          "World Sales Flatform/WiiU/Sports",
          "World Sales Flatform/X360/Sports",
          "World Sales Flatform/XB/Sports",
          "World Sales Flatform/XOne/Sports",
          "World Sales Flatform/3DS/Strategy",
          "World Sales Flatform/DS/Strategy",
          "World Sales Flatform/GB/Strategy",
          "World Sales Flatform/GBA/Strategy",
          "World Sales Flatform/GC/Strategy",
          "World Sales Flatform/GEN/Strategy",
          "World Sales Flatform/N64/Strategy",
          "World Sales Flatform/PC/Strategy",
          "World Sales Flatform/PS/Strategy",
          "World Sales Flatform/PS2/Strategy",
          "World Sales Flatform/PS3/Strategy",
          "World Sales Flatform/PS4/Strategy",
          "World Sales Flatform/PSP/Strategy",
          "World Sales Flatform/PSV/Strategy",
          "World Sales Flatform/SAT/Strategy",
          "World Sales Flatform/SCD/Strategy",
          "World Sales Flatform/SNES/Strategy",
          "World Sales Flatform/WS/Strategy",
          "World Sales Flatform/Wii/Strategy",
          "World Sales Flatform/WiiU/Strategy",
          "World Sales Flatform/X360/Strategy",
          "World Sales Flatform/XB/Strategy",
          "World Sales Flatform/XOne/Strategy",
          "World Sales Flatform/2600",
          "World Sales Flatform/3DO",
          "World Sales Flatform/3DS",
          "World Sales Flatform/DC",
          "World Sales Flatform/DS",
          "World Sales Flatform/GB",
          "World Sales Flatform/GBA",
          "World Sales Flatform/GC",
          "World Sales Flatform/GEN",
          "World Sales Flatform/GG",
          "World Sales Flatform/N64",
          "World Sales Flatform/NES",
          "World Sales Flatform/NG",
          "World Sales Flatform/PC",
          "World Sales Flatform/PCFX",
          "World Sales Flatform/PS",
          "World Sales Flatform/PS2",
          "World Sales Flatform/PS3",
          "World Sales Flatform/PS4",
          "World Sales Flatform/PSP",
          "World Sales Flatform/PSV",
          "World Sales Flatform/SAT",
          "World Sales Flatform/SCD",
          "World Sales Flatform/SNES",
          "World Sales Flatform/TG16",
          "World Sales Flatform/WS",
          "World Sales Flatform/Wii",
          "World Sales Flatform/WiiU",
          "World Sales Flatform/X360",
          "World Sales Flatform/XB",
          "World Sales Flatform/XOne",
          "World Sales Flatform"
         ],
         "labels": [
          "Action",
          "Action",
          "Action",
          "Action",
          "Action",
          "Action",
          "Action",
          "Action",
          "Action",
          "Action",
          "Action",
          "Action",
          "Action",
          "Action",
          "Action",
          "Action",
          "Action",
          "Action",
          "Action",
          "Action",
          "Action",
          "Action",
          "Action",
          "Action",
          "Adventure",
          "Adventure",
          "Adventure",
          "Adventure",
          "Adventure",
          "Adventure",
          "Adventure",
          "Adventure",
          "Adventure",
          "Adventure",
          "Adventure",
          "Adventure",
          "Adventure",
          "Adventure",
          "Adventure",
          "Adventure",
          "Adventure",
          "Adventure",
          "Adventure",
          "Adventure",
          "Adventure",
          "Adventure",
          "Adventure",
          "Adventure",
          "Adventure",
          "Adventure",
          "Fighting",
          "Fighting",
          "Fighting",
          "Fighting",
          "Fighting",
          "Fighting",
          "Fighting",
          "Fighting",
          "Fighting",
          "Fighting",
          "Fighting",
          "Fighting",
          "Fighting",
          "Fighting",
          "Fighting",
          "Fighting",
          "Fighting",
          "Fighting",
          "Fighting",
          "Fighting",
          "Fighting",
          "Fighting",
          "Fighting",
          "Fighting",
          "Misc",
          "Misc",
          "Misc",
          "Misc",
          "Misc",
          "Misc",
          "Misc",
          "Misc",
          "Misc",
          "Misc",
          "Misc",
          "Misc",
          "Misc",
          "Misc",
          "Misc",
          "Misc",
          "Misc",
          "Misc",
          "Misc",
          "Misc",
          "Misc",
          "Misc",
          "Misc",
          "Misc",
          "Platform",
          "Platform",
          "Platform",
          "Platform",
          "Platform",
          "Platform",
          "Platform",
          "Platform",
          "Platform",
          "Platform",
          "Platform",
          "Platform",
          "Platform",
          "Platform",
          "Platform",
          "Platform",
          "Platform",
          "Platform",
          "Platform",
          "Platform",
          "Platform",
          "Platform",
          "Platform",
          "Platform",
          "Platform",
          "Platform",
          "Puzzle",
          "Puzzle",
          "Puzzle",
          "Puzzle",
          "Puzzle",
          "Puzzle",
          "Puzzle",
          "Puzzle",
          "Puzzle",
          "Puzzle",
          "Puzzle",
          "Puzzle",
          "Puzzle",
          "Puzzle",
          "Puzzle",
          "Puzzle",
          "Puzzle",
          "Puzzle",
          "Puzzle",
          "Puzzle",
          "Puzzle",
          "Puzzle",
          "Racing",
          "Racing",
          "Racing",
          "Racing",
          "Racing",
          "Racing",
          "Racing",
          "Racing",
          "Racing",
          "Racing",
          "Racing",
          "Racing",
          "Racing",
          "Racing",
          "Racing",
          "Racing",
          "Racing",
          "Racing",
          "Racing",
          "Racing",
          "Racing",
          "Racing",
          "Racing",
          "Racing",
          "Racing",
          "Role-Playing",
          "Role-Playing",
          "Role-Playing",
          "Role-Playing",
          "Role-Playing",
          "Role-Playing",
          "Role-Playing",
          "Role-Playing",
          "Role-Playing",
          "Role-Playing",
          "Role-Playing",
          "Role-Playing",
          "Role-Playing",
          "Role-Playing",
          "Role-Playing",
          "Role-Playing",
          "Role-Playing",
          "Role-Playing",
          "Role-Playing",
          "Role-Playing",
          "Role-Playing",
          "Role-Playing",
          "Role-Playing",
          "Role-Playing",
          "Role-Playing",
          "Role-Playing",
          "Shooter",
          "Shooter",
          "Shooter",
          "Shooter",
          "Shooter",
          "Shooter",
          "Shooter",
          "Shooter",
          "Shooter",
          "Shooter",
          "Shooter",
          "Shooter",
          "Shooter",
          "Shooter",
          "Shooter",
          "Shooter",
          "Shooter",
          "Shooter",
          "Shooter",
          "Shooter",
          "Shooter",
          "Shooter",
          "Shooter",
          "Shooter",
          "Shooter",
          "Simulation",
          "Simulation",
          "Simulation",
          "Simulation",
          "Simulation",
          "Simulation",
          "Simulation",
          "Simulation",
          "Simulation",
          "Simulation",
          "Simulation",
          "Simulation",
          "Simulation",
          "Simulation",
          "Simulation",
          "Simulation",
          "Simulation",
          "Simulation",
          "Simulation",
          "Simulation",
          "Simulation",
          "Simulation",
          "Simulation",
          "Sports",
          "Sports",
          "Sports",
          "Sports",
          "Sports",
          "Sports",
          "Sports",
          "Sports",
          "Sports",
          "Sports",
          "Sports",
          "Sports",
          "Sports",
          "Sports",
          "Sports",
          "Sports",
          "Sports",
          "Sports",
          "Sports",
          "Sports",
          "Sports",
          "Sports",
          "Sports",
          "Sports",
          "Sports",
          "Strategy",
          "Strategy",
          "Strategy",
          "Strategy",
          "Strategy",
          "Strategy",
          "Strategy",
          "Strategy",
          "Strategy",
          "Strategy",
          "Strategy",
          "Strategy",
          "Strategy",
          "Strategy",
          "Strategy",
          "Strategy",
          "Strategy",
          "Strategy",
          "Strategy",
          "Strategy",
          "Strategy",
          "Strategy",
          "Strategy",
          "2600",
          "3DO",
          "3DS",
          "DC",
          "DS",
          "GB",
          "GBA",
          "GC",
          "GEN",
          "GG",
          "N64",
          "NES",
          "NG",
          "PC",
          "PCFX",
          "PS",
          "PS2",
          "PS3",
          "PS4",
          "PSP",
          "PSV",
          "SAT",
          "SCD",
          "SNES",
          "TG16",
          "WS",
          "Wii",
          "WiiU",
          "X360",
          "XB",
          "XOne",
          "World Sales Flatform"
         ],
         "marker": {
          "coloraxis": "coloraxis",
          "colors": [
           0.7054089979550103,
           0.576148719747457,
           0.37095238095238087,
           1.12797507788162,
           1.4970833333333333,
           0.6196180057388807,
           0.9277246300211414,
           1.7649635036496354,
           1.7978363759296823,
           2.022605217391304,
           0.2673771011734855,
           1.4286099960645415,
           2.288940827100748,
           1.5945400805508638,
           1.2399988513668732,
           0.7230485166872682,
           0.17167916041979014,
           0,
           1.331607142857143,
           1.0227635351661326,
           0.3390232558139535,
           1.9617863765607615,
           0.6844074675324675,
           1.0591802308375264,
           1.0147058823529411,
           0,
           0.06272349272349273,
           0.24544000000000002,
           0.4258405582575596,
           4.324184149184148,
           0.6399182561307903,
           0.448549747048904,
           0,
           0.06822222222222221,
           2.19,
           0.37582755203171464,
           0.5344587505960896,
           0.17391304347826084,
           0.8927074235807858,
           0.2281276595744681,
           0.058400374181478004,
           0.055885167464114836,
           0,
           0,
           0,
           0.3311991318502441,
           0.04176470588235294,
           1.5747078135259356,
           0.19944444444444448,
           0.3531474103585658,
           0.6138709677419355,
           2.387160611854685,
           0,
           0.1145138888888889,
           0.33567695961995253,
           1.9160065111231686,
           1.3977457627118643,
           1.4452717391304344,
           1.2203975535168194,
           0,
           0.03592592592592593,
           1.1970542102366541,
           0.9271976241900645,
           0.7355725338491297,
           0.6817412935323384,
           0.33227127901684117,
           0.1763809523809524,
           0.09836854460093898,
           1.2739183673469388,
           3.8279966471081304,
           2.1188679245283013,
           0.8335414452709884,
           0.48962361623616235,
           0.6433333333333333,
           0.8645251396648044,
           0.15776717557251907,
           1.3599237804878046,
           1.5327715355805243,
           0.7491944827586207,
           0.7634369396294083,
           0,
           0.9138516532618407,
           0.005961002785515321,
           1.467523364485981,
           0.814187082405345,
           0.7881105398457584,
           0.6453772204806688,
           0.8525540540540539,
           0.1479011461318052,
           0.16862934362934362,
           0,
           0,
           0.7833665338645417,
           3.426310956301456,
           1.1382174979558468,
           4.8282807742496745,
           0.37698329853862206,
           0.6910641399416909,
           2.1651243406179352,
           2.9052869996897295,
           1.200472440944882,
           5.417894125242093,
           4.836381351302132,
           1.1687905491698594,
           1.3681995812979766,
           2.9465372168284785,
           0,
           3.268311652366455,
           14.488557110043848,
           0.006326530612244898,
           2.069134091263043,
           0.9135264101503247,
           1.0904879657105175,
           0.37684736091298143,
           1.0771354166666662,
           0.25339933993399344,
           0,
           1,
           6.023544554455444,
           6.33345382411285,
           1.4421516007532957,
           0.44876207199297624,
           0.30273291925465834,
           0.1537037037037037,
           4.33658719346049,
           0,
           0.16206463195691206,
           1.073981492466485,
           15.171902254055198,
           0.8294891640866874,
           0.7230851063829791,
           0.31425219941348964,
           1.5937238095238093,
           0.0035869565217391294,
           0.573228476821192,
           0.5290508474576272,
           0.21233333333333332,
           0,
           0.1834420289855073,
           0.05600000000000001,
           0,
           0,
           0.5801914486279517,
           0.5093233082706766,
           0.11176470588235293,
           0.09571428571428572,
           0.6510996563573884,
           4.020759144237405,
           0.7513207547169812,
           6.103017598343684,
           1.441868131868132,
           1.0204787234042552,
           1.650470534490635,
           0,
           2.2882888500873038,
           1.415848670756646,
           0.025098522167487685,
           1.395714701036922,
           1.723925646275915,
           0.9346233941852604,
           0.35993928881179527,
           0.6229023898646703,
           0.2116271186440678,
           0.10149999999999999,
           0,
           2.588206078576724,
           9.41306462140992,
           2.8223938223938227,
           0.9951219881800275,
           0.5682438869482374,
           0.6037613636363637,
           1.8207248481647738,
           0,
           2.3351990540007885,
           7.524524025385311,
           2.7780641644603645,
           0.775171102661597,
           0,
           0.31845238095238093,
           0.13440894568690095,
           0.9112411050648811,
           0,
           0.9247752234993616,
           1.0263122994652405,
           0.8959057104913678,
           1.0213698098564223,
           0.26391641182466863,
           0.12026885735623599,
           0,
           0,
           0.1614795498215756,
           0,
           0.33213371266002845,
           0.22299595141700407,
           2.1258224506807437,
           1.3133382679496668,
           1.3425,
           1.7979909365558913,
           0.35875968992248053,
           0,
           0.4114146341463415,
           0.4,
           0.1068611111111111,
           0.724380044020543,
           0,
           3.1827607680332126,
           21.472484559236378,
           0.8821888790820829,
           0.8014551004833375,
           1.1438979460256056,
           2.290286166088553,
           2.3508590015932027,
           0.5623823975720792,
           0.41301969365426694,
           0,
           1.0812026359143327,
           0,
           1.078196037539103,
           1.1894489465153975,
           4.211314306228685,
           1.8537655389457122,
           2.125496996706065,
           0.42,
           0,
           1.1584859675036925,
           0,
           2.4507892145724455,
           0,
           0.39976311336717435,
           1.077811408614668,
           1.363837095191364,
           1.1102311693315359,
           0.22727595736281095,
           0.706645569620253,
           0.353327154772938,
           0.06493506493506494,
           0.2159872611464969,
           0.0025,
           0,
           0.4202131438721138,
           0.7596213145793883,
           0.15,
           0.5399515570934256,
           0.43843881856540085,
           0.14851851851851852,
           0.36533527696793,
           0.13625806451612904,
           0.6709836065573771,
           0.5543041156142003,
           0.6742209944751381,
           0.24859841560024376,
           0.42097293056100443,
           1.4506249999999998,
           0.5737225609756097,
           0.7207970204841712,
           0,
           0.006969192339716902,
           0.7878044143175994,
           0.9789905270472915,
           0.6820241959280023,
           0.9690273616936287,
           0.20572079635404178,
           0.11680327868852461,
           0,
           0.1421376608841634,
           15.3494079983565,
           0.2817168674698795,
           1.1189419206440483,
           0.5196793808734107,
           0.9095619524405506,
           0.121866028708134,
           0.41157894736842116,
           0.6848447204968944,
           0.6908187919463087,
           0.5346064814814817,
           0,
           1.955585672797677,
           0.9894398430688751,
           0.7179326257498846,
           0.08899669966996701,
           0.1989473684210526,
           0.052682926829268305,
           0.08789077212806026,
           0.019354838709677417,
           0,
           0,
           0.03734939759036144,
           0,
           0.1701338432122371,
           0.4081451612903226,
           0.619496544916091,
           0.23388489208633104,
           0.12052631578947369,
           1.747196126905645,
           0,
           1.5493958619574881,
           0.5370695053224798,
           2.1055159333244173,
           6.948199256214524,
           1.2065513343799057,
           1.0380944020866774,
           2.2302080394922426,
           0,
           1.925987298976608,
           9.150840801370137,
           0,
           0.8173004404605517,
           0,
           1.123106780171352,
           1.3153997961199069,
           1.3533549444583648,
           1.3649284430061128,
           0.4488095720264614,
           0.17076376554174064,
           0.032203036618041074,
           0.802139037433155,
           2.497301674581354,
           0,
           0,
           7.2130137799311544,
           1.1796347422428535,
           2.5941165965957795,
           0.9020479361883375,
           1.366032184885864,
           2.48821550282273
          ]
         },
         "name": "",
         "parents": [
          "World Sales Flatform/2600",
          "World Sales Flatform/3DS",
          "World Sales Flatform/DC",
          "World Sales Flatform/DS",
          "World Sales Flatform/GB",
          "World Sales Flatform/GBA",
          "World Sales Flatform/GC",
          "World Sales Flatform/GEN",
          "World Sales Flatform/N64",
          "World Sales Flatform/NES",
          "World Sales Flatform/PC",
          "World Sales Flatform/PS",
          "World Sales Flatform/PS2",
          "World Sales Flatform/PS3",
          "World Sales Flatform/PS4",
          "World Sales Flatform/PSP",
          "World Sales Flatform/PSV",
          "World Sales Flatform/SAT",
          "World Sales Flatform/SNES",
          "World Sales Flatform/Wii",
          "World Sales Flatform/WiiU",
          "World Sales Flatform/X360",
          "World Sales Flatform/XB",
          "World Sales Flatform/XOne",
          "World Sales Flatform/2600",
          "World Sales Flatform/3DO",
          "World Sales Flatform/3DS",
          "World Sales Flatform/DC",
          "World Sales Flatform/DS",
          "World Sales Flatform/GB",
          "World Sales Flatform/GBA",
          "World Sales Flatform/GC",
          "World Sales Flatform/GEN",
          "World Sales Flatform/N64",
          "World Sales Flatform/NES",
          "World Sales Flatform/PC",
          "World Sales Flatform/PS",
          "World Sales Flatform/PS2",
          "World Sales Flatform/PS3",
          "World Sales Flatform/PS4",
          "World Sales Flatform/PSP",
          "World Sales Flatform/PSV",
          "World Sales Flatform/SAT",
          "World Sales Flatform/SNES",
          "World Sales Flatform/TG16",
          "World Sales Flatform/Wii",
          "World Sales Flatform/WiiU",
          "World Sales Flatform/X360",
          "World Sales Flatform/XB",
          "World Sales Flatform/XOne",
          "World Sales Flatform/2600",
          "World Sales Flatform/3DS",
          "World Sales Flatform/DC",
          "World Sales Flatform/DS",
          "World Sales Flatform/GBA",
          "World Sales Flatform/GC",
          "World Sales Flatform/GEN",
          "World Sales Flatform/N64",
          "World Sales Flatform/NES",
          "World Sales Flatform/NG",
          "World Sales Flatform/PC",
          "World Sales Flatform/PS",
          "World Sales Flatform/PS2",
          "World Sales Flatform/PS3",
          "World Sales Flatform/PS4",
          "World Sales Flatform/PSP",
          "World Sales Flatform/PSV",
          "World Sales Flatform/SAT",
          "World Sales Flatform/SNES",
          "World Sales Flatform/Wii",
          "World Sales Flatform/WiiU",
          "World Sales Flatform/X360",
          "World Sales Flatform/XB",
          "World Sales Flatform/XOne",
          "World Sales Flatform/2600",
          "World Sales Flatform/3DS",
          "World Sales Flatform/DS",
          "World Sales Flatform/GB",
          "World Sales Flatform/GBA",
          "World Sales Flatform/GC",
          "World Sales Flatform/GEN",
          "World Sales Flatform/N64",
          "World Sales Flatform/NES",
          "World Sales Flatform/PC",
          "World Sales Flatform/PS",
          "World Sales Flatform/PS2",
          "World Sales Flatform/PS3",
          "World Sales Flatform/PS4",
          "World Sales Flatform/PSP",
          "World Sales Flatform/PSV",
          "World Sales Flatform/SAT",
          "World Sales Flatform/SCD",
          "World Sales Flatform/SNES",
          "World Sales Flatform/Wii",
          "World Sales Flatform/WiiU",
          "World Sales Flatform/X360",
          "World Sales Flatform/XB",
          "World Sales Flatform/XOne",
          "World Sales Flatform/2600",
          "World Sales Flatform/3DS",
          "World Sales Flatform/DC",
          "World Sales Flatform/DS",
          "World Sales Flatform/GB",
          "World Sales Flatform/GBA",
          "World Sales Flatform/GC",
          "World Sales Flatform/GEN",
          "World Sales Flatform/GG",
          "World Sales Flatform/N64",
          "World Sales Flatform/NES",
          "World Sales Flatform/PC",
          "World Sales Flatform/PS",
          "World Sales Flatform/PS2",
          "World Sales Flatform/PS3",
          "World Sales Flatform/PS4",
          "World Sales Flatform/PSP",
          "World Sales Flatform/PSV",
          "World Sales Flatform/SAT",
          "World Sales Flatform/SCD",
          "World Sales Flatform/SNES",
          "World Sales Flatform/Wii",
          "World Sales Flatform/WiiU",
          "World Sales Flatform/X360",
          "World Sales Flatform/XB",
          "World Sales Flatform/XOne",
          "World Sales Flatform/2600",
          "World Sales Flatform/3DO",
          "World Sales Flatform/3DS",
          "World Sales Flatform/DS",
          "World Sales Flatform/GB",
          "World Sales Flatform/GBA",
          "World Sales Flatform/GC",
          "World Sales Flatform/N64",
          "World Sales Flatform/NES",
          "World Sales Flatform/PC",
          "World Sales Flatform/PS",
          "World Sales Flatform/PS2",
          "World Sales Flatform/PS3",
          "World Sales Flatform/PS4",
          "World Sales Flatform/PSP",
          "World Sales Flatform/PSV",
          "World Sales Flatform/SAT",
          "World Sales Flatform/SNES",
          "World Sales Flatform/Wii",
          "World Sales Flatform/WiiU",
          "World Sales Flatform/X360",
          "World Sales Flatform/XB",
          "World Sales Flatform/2600",
          "World Sales Flatform/3DS",
          "World Sales Flatform/DC",
          "World Sales Flatform/DS",
          "World Sales Flatform/GB",
          "World Sales Flatform/GBA",
          "World Sales Flatform/GC",
          "World Sales Flatform/GEN",
          "World Sales Flatform/N64",
          "World Sales Flatform/NES",
          "World Sales Flatform/PC",
          "World Sales Flatform/PS",
          "World Sales Flatform/PS2",
          "World Sales Flatform/PS3",
          "World Sales Flatform/PS4",
          "World Sales Flatform/PSP",
          "World Sales Flatform/PSV",
          "World Sales Flatform/SAT",
          "World Sales Flatform/SCD",
          "World Sales Flatform/SNES",
          "World Sales Flatform/Wii",
          "World Sales Flatform/WiiU",
          "World Sales Flatform/X360",
          "World Sales Flatform/XB",
          "World Sales Flatform/XOne",
          "World Sales Flatform/3DS",
          "World Sales Flatform/DC",
          "World Sales Flatform/DS",
          "World Sales Flatform/GB",
          "World Sales Flatform/GBA",
          "World Sales Flatform/GC",
          "World Sales Flatform/GEN",
          "World Sales Flatform/N64",
          "World Sales Flatform/NES",
          "World Sales Flatform/PC",
          "World Sales Flatform/PCFX",
          "World Sales Flatform/PS",
          "World Sales Flatform/PS2",
          "World Sales Flatform/PS3",
          "World Sales Flatform/PS4",
          "World Sales Flatform/PSP",
          "World Sales Flatform/PSV",
          "World Sales Flatform/SAT",
          "World Sales Flatform/SCD",
          "World Sales Flatform/SNES",
          "World Sales Flatform/WS",
          "World Sales Flatform/Wii",
          "World Sales Flatform/WiiU",
          "World Sales Flatform/X360",
          "World Sales Flatform/XB",
          "World Sales Flatform/XOne",
          "World Sales Flatform/2600",
          "World Sales Flatform/3DS",
          "World Sales Flatform/DC",
          "World Sales Flatform/DS",
          "World Sales Flatform/GB",
          "World Sales Flatform/GBA",
          "World Sales Flatform/GC",
          "World Sales Flatform/GEN",
          "World Sales Flatform/N64",
          "World Sales Flatform/NES",
          "World Sales Flatform/PC",
          "World Sales Flatform/PS",
          "World Sales Flatform/PS2",
          "World Sales Flatform/PS3",
          "World Sales Flatform/PS4",
          "World Sales Flatform/PSP",
          "World Sales Flatform/PSV",
          "World Sales Flatform/SAT",
          "World Sales Flatform/SNES",
          "World Sales Flatform/TG16",
          "World Sales Flatform/Wii",
          "World Sales Flatform/WiiU",
          "World Sales Flatform/X360",
          "World Sales Flatform/XB",
          "World Sales Flatform/XOne",
          "World Sales Flatform/2600",
          "World Sales Flatform/3DO",
          "World Sales Flatform/3DS",
          "World Sales Flatform/DC",
          "World Sales Flatform/DS",
          "World Sales Flatform/GB",
          "World Sales Flatform/GBA",
          "World Sales Flatform/GC",
          "World Sales Flatform/N64",
          "World Sales Flatform/PC",
          "World Sales Flatform/PS",
          "World Sales Flatform/PS2",
          "World Sales Flatform/PS3",
          "World Sales Flatform/PS4",
          "World Sales Flatform/PSP",
          "World Sales Flatform/PSV",
          "World Sales Flatform/SAT",
          "World Sales Flatform/SNES",
          "World Sales Flatform/Wii",
          "World Sales Flatform/WiiU",
          "World Sales Flatform/X360",
          "World Sales Flatform/XB",
          "World Sales Flatform/XOne",
          "World Sales Flatform/2600",
          "World Sales Flatform/3DS",
          "World Sales Flatform/DC",
          "World Sales Flatform/DS",
          "World Sales Flatform/GB",
          "World Sales Flatform/GBA",
          "World Sales Flatform/GC",
          "World Sales Flatform/GEN",
          "World Sales Flatform/N64",
          "World Sales Flatform/NES",
          "World Sales Flatform/NG",
          "World Sales Flatform/PC",
          "World Sales Flatform/PS",
          "World Sales Flatform/PS2",
          "World Sales Flatform/PS3",
          "World Sales Flatform/PS4",
          "World Sales Flatform/PSP",
          "World Sales Flatform/PSV",
          "World Sales Flatform/SAT",
          "World Sales Flatform/SNES",
          "World Sales Flatform/Wii",
          "World Sales Flatform/WiiU",
          "World Sales Flatform/X360",
          "World Sales Flatform/XB",
          "World Sales Flatform/XOne",
          "World Sales Flatform/3DS",
          "World Sales Flatform/DS",
          "World Sales Flatform/GB",
          "World Sales Flatform/GBA",
          "World Sales Flatform/GC",
          "World Sales Flatform/GEN",
          "World Sales Flatform/N64",
          "World Sales Flatform/PC",
          "World Sales Flatform/PS",
          "World Sales Flatform/PS2",
          "World Sales Flatform/PS3",
          "World Sales Flatform/PS4",
          "World Sales Flatform/PSP",
          "World Sales Flatform/PSV",
          "World Sales Flatform/SAT",
          "World Sales Flatform/SCD",
          "World Sales Flatform/SNES",
          "World Sales Flatform/WS",
          "World Sales Flatform/Wii",
          "World Sales Flatform/WiiU",
          "World Sales Flatform/X360",
          "World Sales Flatform/XB",
          "World Sales Flatform/XOne",
          "World Sales Flatform",
          "World Sales Flatform",
          "World Sales Flatform",
          "World Sales Flatform",
          "World Sales Flatform",
          "World Sales Flatform",
          "World Sales Flatform",
          "World Sales Flatform",
          "World Sales Flatform",
          "World Sales Flatform",
          "World Sales Flatform",
          "World Sales Flatform",
          "World Sales Flatform",
          "World Sales Flatform",
          "World Sales Flatform",
          "World Sales Flatform",
          "World Sales Flatform",
          "World Sales Flatform",
          "World Sales Flatform",
          "World Sales Flatform",
          "World Sales Flatform",
          "World Sales Flatform",
          "World Sales Flatform",
          "World Sales Flatform",
          "World Sales Flatform",
          "World Sales Flatform",
          "World Sales Flatform",
          "World Sales Flatform",
          "World Sales Flatform",
          "World Sales Flatform",
          "World Sales Flatform",
          ""
         ],
         "type": "treemap",
         "values": [
          29.34,
          57.019999999999996,
          1.26,
          115.56,
          7.92,
          55.76,
          37.839999999999996,
          2.74,
          29.58,
          28.75,
          31.53,
          127.05,
          272.76,
          307.88,
          87.06,
          64.72,
          20.01,
          0.65,
          10.08,
          118.58,
          19.35,
          242.67,
          49.28,
          33.79,
          1.7000000000000002,
          0.06,
          4.8100000000000005,
          2.5,
          47.29,
          17.16,
          14.68,
          5.93,
          0.19,
          0.45,
          4.38,
          10.09,
          20.97,
          21.16,
          22.9,
          4.7,
          10.69,
          4.18,
          4.16,
          1.5,
          0.14,
          18.43,
          0.17,
          15.23,
          3.06,
          2.5100000000000002,
          1.24,
          10.46,
          1.83,
          7.2,
          4.21,
          18.43,
          5.9,
          22.08,
          6.54,
          1.4200000000000002,
          0.27,
          72.68,
          92.6,
          51.7,
          8.040000000000001,
          21.97,
          3.15,
          8.52,
          26.95,
          23.86,
          6.359999999999999,
          37.64,
          13.55,
          2.31,
          3.58,
          10.48,
          137.76,
          13.35,
          36.25,
          16.73,
          0.03,
          11.19,
          3.59,
          8.56,
          44.9,
          101.14,
          47.85,
          7.3999999999999995,
          13.96,
          5.18,
          1.2,
          0.1,
          5.02,
          221.06,
          12.23,
          91.96,
          9.58,
          6.86,
          13.27,
          32.23,
          2.54,
          77.45,
          54.910000000000004,
          78.3,
          28.66,
          15.45,
          0.04,
          36.13,
          95.78,
          0.49,
          64.21,
          72.51,
          30.33,
          7.01,
          17.28,
          3.03,
          0.76,
          1.5,
          65.65,
          90.74,
          21.240000000000002,
          11.39,
          9.66,
          0.81,
          14.68,
          0.02,
          5.57,
          84.29,
          47.47,
          12.92,
          4.7,
          3.41,
          21,
          0.92,
          12.08,
          5.9,
          0.6,
          0.02,
          5.5200000000000005,
          0.2,
          1,
          6.38,
          15.67,
          1.3299999999999998,
          0.85,
          0.42000000000000004,
          2.91,
          14.49,
          2.65,
          38.64,
          4.55,
          18.8,
          21.89,
          0.26,
          40.089999999999996,
          9.780000000000001,
          4.06,
          103.19,
          156.28,
          73.95,
          11.53,
          34.73,
          2.95,
          2.4,
          0.07,
          13.49,
          61.28,
          7.77,
          65.99,
          31.49,
          8.8,
          75.74,
          0.68,
          126.85,
          88.24000000000001,
          64.21,
          13.15,
          0.27,
          3.36,
          18.78,
          47.78,
          0.03,
          78.3,
          93.5,
          75.3,
          25.77,
          49.05,
          13.39,
          3.76,
          0.06,
          36.43,
          1.22,
          14.06,
          2.47,
          71.98,
          13.51,
          9.48,
          26.48,
          1.29,
          0.33,
          8.2,
          1.2,
          3.6,
          13.63,
          0.13,
          19.27,
          35.62,
          45.32,
          39.31,
          108.57,
          196.04,
          75.32,
          19.77,
          4.57,
          3.98,
          6.07,
          0.02,
          28.77,
          6.17,
          278.55,
          63.55,
          51.61,
          0.45,
          0.02,
          27.080000000000002,
          0.52,
          132.03,
          3.55,
          5.91,
          8.59,
          10.19,
          51.91,
          25.330000000000002,
          42.66,
          10.790000000000001,
          0.77,
          6.28,
          0.08,
          1.1300000000000001,
          5.63,
          36.97,
          0.21,
          14.45,
          7.11,
          0.54,
          3.43,
          6.2,
          3.66,
          31.83,
          9.05,
          16.41,
          25.49,
          3.1999999999999997,
          32.8,
          26.85,
          0.02,
          12.01,
          120.97,
          273.41,
          135.56,
          50.07,
          41.69,
          4.88,
          2.79,
          17.87,
          292.06,
          3.3200000000000003,
          139.12,
          54.27,
          23.97,
          2.09,
          15.39,
          8.05,
          7.45,
          4.32,
          0.19,
          10.33,
          45.88,
          21.67,
          15.15,
          4.94,
          0.41000000000000003,
          10.620000000000001,
          0.31,
          3.24,
          0.14,
          4.98,
          0.2,
          5.23,
          1.24,
          10.13,
          2.7800000000000002,
          0.38,
          97.08,
          0.1,
          247.46,
          15.97,
          822.49,
          255.45000000000002,
          318.5,
          199.36,
          28.36,
          0.04,
          218.88,
          251.07,
          1.44,
          258.82,
          0.03,
          730.66,
          1255.64,
          957.84,
          278.1,
          296.28000000000003,
          61.93,
          33.59,
          1.87,
          200.05,
          0.16,
          1.42,
          926.71,
          81.86,
          979.96,
          258.26,
          141.06,
          8920.44
         ]
        }
       ],
       "layout": {
        "coloraxis": {
         "colorbar": {
          "title": {
           "text": "na_sales"
          }
         },
         "colorscale": [
          [
           0,
           "#440154"
          ],
          [
           0.1111111111111111,
           "#482878"
          ],
          [
           0.2222222222222222,
           "#3e4989"
          ],
          [
           0.3333333333333333,
           "#31688e"
          ],
          [
           0.4444444444444444,
           "#26828e"
          ],
          [
           0.5555555555555556,
           "#1f9e89"
          ],
          [
           0.6666666666666666,
           "#35b779"
          ],
          [
           0.7777777777777778,
           "#6ece58"
          ],
          [
           0.8888888888888888,
           "#b5de2b"
          ],
          [
           1,
           "#fde725"
          ]
         ]
        },
        "legend": {
         "tracegroupgap": 0
        },
        "margin": {
         "t": 60
        },
        "template": {
         "data": {
          "bar": [
           {
            "error_x": {
             "color": "#2a3f5f"
            },
            "error_y": {
             "color": "#2a3f5f"
            },
            "marker": {
             "line": {
              "color": "#E5ECF6",
              "width": 0.5
             },
             "pattern": {
              "fillmode": "overlay",
              "size": 10,
              "solidity": 0.2
             }
            },
            "type": "bar"
           }
          ],
          "barpolar": [
           {
            "marker": {
             "line": {
              "color": "#E5ECF6",
              "width": 0.5
             },
             "pattern": {
              "fillmode": "overlay",
              "size": 10,
              "solidity": 0.2
             }
            },
            "type": "barpolar"
           }
          ],
          "carpet": [
           {
            "aaxis": {
             "endlinecolor": "#2a3f5f",
             "gridcolor": "white",
             "linecolor": "white",
             "minorgridcolor": "white",
             "startlinecolor": "#2a3f5f"
            },
            "baxis": {
             "endlinecolor": "#2a3f5f",
             "gridcolor": "white",
             "linecolor": "white",
             "minorgridcolor": "white",
             "startlinecolor": "#2a3f5f"
            },
            "type": "carpet"
           }
          ],
          "choropleth": [
           {
            "colorbar": {
             "outlinewidth": 0,
             "ticks": ""
            },
            "type": "choropleth"
           }
          ],
          "contour": [
           {
            "colorbar": {
             "outlinewidth": 0,
             "ticks": ""
            },
            "colorscale": [
             [
              0,
              "#0d0887"
             ],
             [
              0.1111111111111111,
              "#46039f"
             ],
             [
              0.2222222222222222,
              "#7201a8"
             ],
             [
              0.3333333333333333,
              "#9c179e"
             ],
             [
              0.4444444444444444,
              "#bd3786"
             ],
             [
              0.5555555555555556,
              "#d8576b"
             ],
             [
              0.6666666666666666,
              "#ed7953"
             ],
             [
              0.7777777777777778,
              "#fb9f3a"
             ],
             [
              0.8888888888888888,
              "#fdca26"
             ],
             [
              1,
              "#f0f921"
             ]
            ],
            "type": "contour"
           }
          ],
          "contourcarpet": [
           {
            "colorbar": {
             "outlinewidth": 0,
             "ticks": ""
            },
            "type": "contourcarpet"
           }
          ],
          "heatmap": [
           {
            "colorbar": {
             "outlinewidth": 0,
             "ticks": ""
            },
            "colorscale": [
             [
              0,
              "#0d0887"
             ],
             [
              0.1111111111111111,
              "#46039f"
             ],
             [
              0.2222222222222222,
              "#7201a8"
             ],
             [
              0.3333333333333333,
              "#9c179e"
             ],
             [
              0.4444444444444444,
              "#bd3786"
             ],
             [
              0.5555555555555556,
              "#d8576b"
             ],
             [
              0.6666666666666666,
              "#ed7953"
             ],
             [
              0.7777777777777778,
              "#fb9f3a"
             ],
             [
              0.8888888888888888,
              "#fdca26"
             ],
             [
              1,
              "#f0f921"
             ]
            ],
            "type": "heatmap"
           }
          ],
          "heatmapgl": [
           {
            "colorbar": {
             "outlinewidth": 0,
             "ticks": ""
            },
            "colorscale": [
             [
              0,
              "#0d0887"
             ],
             [
              0.1111111111111111,
              "#46039f"
             ],
             [
              0.2222222222222222,
              "#7201a8"
             ],
             [
              0.3333333333333333,
              "#9c179e"
             ],
             [
              0.4444444444444444,
              "#bd3786"
             ],
             [
              0.5555555555555556,
              "#d8576b"
             ],
             [
              0.6666666666666666,
              "#ed7953"
             ],
             [
              0.7777777777777778,
              "#fb9f3a"
             ],
             [
              0.8888888888888888,
              "#fdca26"
             ],
             [
              1,
              "#f0f921"
             ]
            ],
            "type": "heatmapgl"
           }
          ],
          "histogram": [
           {
            "marker": {
             "pattern": {
              "fillmode": "overlay",
              "size": 10,
              "solidity": 0.2
             }
            },
            "type": "histogram"
           }
          ],
          "histogram2d": [
           {
            "colorbar": {
             "outlinewidth": 0,
             "ticks": ""
            },
            "colorscale": [
             [
              0,
              "#0d0887"
             ],
             [
              0.1111111111111111,
              "#46039f"
             ],
             [
              0.2222222222222222,
              "#7201a8"
             ],
             [
              0.3333333333333333,
              "#9c179e"
             ],
             [
              0.4444444444444444,
              "#bd3786"
             ],
             [
              0.5555555555555556,
              "#d8576b"
             ],
             [
              0.6666666666666666,
              "#ed7953"
             ],
             [
              0.7777777777777778,
              "#fb9f3a"
             ],
             [
              0.8888888888888888,
              "#fdca26"
             ],
             [
              1,
              "#f0f921"
             ]
            ],
            "type": "histogram2d"
           }
          ],
          "histogram2dcontour": [
           {
            "colorbar": {
             "outlinewidth": 0,
             "ticks": ""
            },
            "colorscale": [
             [
              0,
              "#0d0887"
             ],
             [
              0.1111111111111111,
              "#46039f"
             ],
             [
              0.2222222222222222,
              "#7201a8"
             ],
             [
              0.3333333333333333,
              "#9c179e"
             ],
             [
              0.4444444444444444,
              "#bd3786"
             ],
             [
              0.5555555555555556,
              "#d8576b"
             ],
             [
              0.6666666666666666,
              "#ed7953"
             ],
             [
              0.7777777777777778,
              "#fb9f3a"
             ],
             [
              0.8888888888888888,
              "#fdca26"
             ],
             [
              1,
              "#f0f921"
             ]
            ],
            "type": "histogram2dcontour"
           }
          ],
          "mesh3d": [
           {
            "colorbar": {
             "outlinewidth": 0,
             "ticks": ""
            },
            "type": "mesh3d"
           }
          ],
          "parcoords": [
           {
            "line": {
             "colorbar": {
              "outlinewidth": 0,
              "ticks": ""
             }
            },
            "type": "parcoords"
           }
          ],
          "pie": [
           {
            "automargin": true,
            "type": "pie"
           }
          ],
          "scatter": [
           {
            "fillpattern": {
             "fillmode": "overlay",
             "size": 10,
             "solidity": 0.2
            },
            "type": "scatter"
           }
          ],
          "scatter3d": [
           {
            "line": {
             "colorbar": {
              "outlinewidth": 0,
              "ticks": ""
             }
            },
            "marker": {
             "colorbar": {
              "outlinewidth": 0,
              "ticks": ""
             }
            },
            "type": "scatter3d"
           }
          ],
          "scattercarpet": [
           {
            "marker": {
             "colorbar": {
              "outlinewidth": 0,
              "ticks": ""
             }
            },
            "type": "scattercarpet"
           }
          ],
          "scattergeo": [
           {
            "marker": {
             "colorbar": {
              "outlinewidth": 0,
              "ticks": ""
             }
            },
            "type": "scattergeo"
           }
          ],
          "scattergl": [
           {
            "marker": {
             "colorbar": {
              "outlinewidth": 0,
              "ticks": ""
             }
            },
            "type": "scattergl"
           }
          ],
          "scattermapbox": [
           {
            "marker": {
             "colorbar": {
              "outlinewidth": 0,
              "ticks": ""
             }
            },
            "type": "scattermapbox"
           }
          ],
          "scatterpolar": [
           {
            "marker": {
             "colorbar": {
              "outlinewidth": 0,
              "ticks": ""
             }
            },
            "type": "scatterpolar"
           }
          ],
          "scatterpolargl": [
           {
            "marker": {
             "colorbar": {
              "outlinewidth": 0,
              "ticks": ""
             }
            },
            "type": "scatterpolargl"
           }
          ],
          "scatterternary": [
           {
            "marker": {
             "colorbar": {
              "outlinewidth": 0,
              "ticks": ""
             }
            },
            "type": "scatterternary"
           }
          ],
          "surface": [
           {
            "colorbar": {
             "outlinewidth": 0,
             "ticks": ""
            },
            "colorscale": [
             [
              0,
              "#0d0887"
             ],
             [
              0.1111111111111111,
              "#46039f"
             ],
             [
              0.2222222222222222,
              "#7201a8"
             ],
             [
              0.3333333333333333,
              "#9c179e"
             ],
             [
              0.4444444444444444,
              "#bd3786"
             ],
             [
              0.5555555555555556,
              "#d8576b"
             ],
             [
              0.6666666666666666,
              "#ed7953"
             ],
             [
              0.7777777777777778,
              "#fb9f3a"
             ],
             [
              0.8888888888888888,
              "#fdca26"
             ],
             [
              1,
              "#f0f921"
             ]
            ],
            "type": "surface"
           }
          ],
          "table": [
           {
            "cells": {
             "fill": {
              "color": "#EBF0F8"
             },
             "line": {
              "color": "white"
             }
            },
            "header": {
             "fill": {
              "color": "#C8D4E3"
             },
             "line": {
              "color": "white"
             }
            },
            "type": "table"
           }
          ]
         },
         "layout": {
          "annotationdefaults": {
           "arrowcolor": "#2a3f5f",
           "arrowhead": 0,
           "arrowwidth": 1
          },
          "autotypenumbers": "strict",
          "coloraxis": {
           "colorbar": {
            "outlinewidth": 0,
            "ticks": ""
           }
          },
          "colorscale": {
           "diverging": [
            [
             0,
             "#8e0152"
            ],
            [
             0.1,
             "#c51b7d"
            ],
            [
             0.2,
             "#de77ae"
            ],
            [
             0.3,
             "#f1b6da"
            ],
            [
             0.4,
             "#fde0ef"
            ],
            [
             0.5,
             "#f7f7f7"
            ],
            [
             0.6,
             "#e6f5d0"
            ],
            [
             0.7,
             "#b8e186"
            ],
            [
             0.8,
             "#7fbc41"
            ],
            [
             0.9,
             "#4d9221"
            ],
            [
             1,
             "#276419"
            ]
           ],
           "sequential": [
            [
             0,
             "#0d0887"
            ],
            [
             0.1111111111111111,
             "#46039f"
            ],
            [
             0.2222222222222222,
             "#7201a8"
            ],
            [
             0.3333333333333333,
             "#9c179e"
            ],
            [
             0.4444444444444444,
             "#bd3786"
            ],
            [
             0.5555555555555556,
             "#d8576b"
            ],
            [
             0.6666666666666666,
             "#ed7953"
            ],
            [
             0.7777777777777778,
             "#fb9f3a"
            ],
            [
             0.8888888888888888,
             "#fdca26"
            ],
            [
             1,
             "#f0f921"
            ]
           ],
           "sequentialminus": [
            [
             0,
             "#0d0887"
            ],
            [
             0.1111111111111111,
             "#46039f"
            ],
            [
             0.2222222222222222,
             "#7201a8"
            ],
            [
             0.3333333333333333,
             "#9c179e"
            ],
            [
             0.4444444444444444,
             "#bd3786"
            ],
            [
             0.5555555555555556,
             "#d8576b"
            ],
            [
             0.6666666666666666,
             "#ed7953"
            ],
            [
             0.7777777777777778,
             "#fb9f3a"
            ],
            [
             0.8888888888888888,
             "#fdca26"
            ],
            [
             1,
             "#f0f921"
            ]
           ]
          },
          "colorway": [
           "#636efa",
           "#EF553B",
           "#00cc96",
           "#ab63fa",
           "#FFA15A",
           "#19d3f3",
           "#FF6692",
           "#B6E880",
           "#FF97FF",
           "#FECB52"
          ],
          "font": {
           "color": "#2a3f5f"
          },
          "geo": {
           "bgcolor": "white",
           "lakecolor": "white",
           "landcolor": "#E5ECF6",
           "showlakes": true,
           "showland": true,
           "subunitcolor": "white"
          },
          "hoverlabel": {
           "align": "left"
          },
          "hovermode": "closest",
          "mapbox": {
           "style": "light"
          },
          "paper_bgcolor": "white",
          "plot_bgcolor": "#E5ECF6",
          "polar": {
           "angularaxis": {
            "gridcolor": "white",
            "linecolor": "white",
            "ticks": ""
           },
           "bgcolor": "#E5ECF6",
           "radialaxis": {
            "gridcolor": "white",
            "linecolor": "white",
            "ticks": ""
           }
          },
          "scene": {
           "xaxis": {
            "backgroundcolor": "#E5ECF6",
            "gridcolor": "white",
            "gridwidth": 2,
            "linecolor": "white",
            "showbackground": true,
            "ticks": "",
            "zerolinecolor": "white"
           },
           "yaxis": {
            "backgroundcolor": "#E5ECF6",
            "gridcolor": "white",
            "gridwidth": 2,
            "linecolor": "white",
            "showbackground": true,
            "ticks": "",
            "zerolinecolor": "white"
           },
           "zaxis": {
            "backgroundcolor": "#E5ECF6",
            "gridcolor": "white",
            "gridwidth": 2,
            "linecolor": "white",
            "showbackground": true,
            "ticks": "",
            "zerolinecolor": "white"
           }
          },
          "shapedefaults": {
           "line": {
            "color": "#2a3f5f"
           }
          },
          "ternary": {
           "aaxis": {
            "gridcolor": "white",
            "linecolor": "white",
            "ticks": ""
           },
           "baxis": {
            "gridcolor": "white",
            "linecolor": "white",
            "ticks": ""
           },
           "bgcolor": "#E5ECF6",
           "caxis": {
            "gridcolor": "white",
            "linecolor": "white",
            "ticks": ""
           }
          },
          "title": {
           "x": 0.05
          },
          "xaxis": {
           "automargin": true,
           "gridcolor": "white",
           "linecolor": "white",
           "ticks": "",
           "title": {
            "standoff": 15
           },
           "zerolinecolor": "white",
           "zerolinewidth": 2
          },
          "yaxis": {
           "automargin": true,
           "gridcolor": "white",
           "linecolor": "white",
           "ticks": "",
           "title": {
            "standoff": 15
           },
           "zerolinecolor": "white",
           "zerolinewidth": 2
          }
         }
        }
       }
      }
     },
     "metadata": {},
     "output_type": "display_data"
    },
    {
     "name": "stdout",
     "output_type": "stream",
     "text": [
      "None\n"
     ]
    }
   ],
   "source": [
    "import numpy as np\n",
    "import matplotlib.pyplot as plt\n",
    "import seaborn as sns\n",
    "import pandas as pd\n",
    "import plotly.express as px\n",
    "\n",
    "csv = pd.read_csv(\"video_games_sales.csv\")\n",
    "\n",
    "fig = px.treemap(csv,\n",
    "                 path=[px.Constant(\"World Sales Flatform\"), \"platform\", \"genre\"],\n",
    "                 values='global_sales',\n",
    "                 color='na_sales',\n",
    "                 color_continuous_scale='viridis'\n",
    "                 )\n",
    "\n",
    "print(fig.show())"
   ]
  }
 ],
 "metadata": {
  "kernelspec": {
   "display_name": "base",
   "language": "python",
   "name": "python3"
  },
  "language_info": {
   "codemirror_mode": {
    "name": "ipython",
    "version": 3
   },
   "file_extension": ".py",
   "mimetype": "text/x-python",
   "name": "python",
   "nbconvert_exporter": "python",
   "pygments_lexer": "ipython3",
   "version": "3.10.9"
  },
  "orig_nbformat": 4
 },
 "nbformat": 4,
 "nbformat_minor": 2
}
